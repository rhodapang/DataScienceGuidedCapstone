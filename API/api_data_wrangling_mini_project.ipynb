{
 "cells": [
  {
   "cell_type": "markdown",
   "metadata": {},
   "source": [
    "This exercise will require you to pull some data from the Qunadl API. Qaundl is currently the most widely used aggregator of financial market data."
   ]
  },
  {
   "cell_type": "markdown",
   "metadata": {},
   "source": [
    "As a first step, you will need to register a free account on the http://www.quandl.com website."
   ]
  },
  {
   "cell_type": "markdown",
   "metadata": {},
   "source": [
    "After you register, you will be provided with a unique API key, that you should store:"
   ]
  },
  {
   "cell_type": "code",
   "execution_count": 2,
   "metadata": {},
   "outputs": [],
   "source": [
    "# Store the API key as a string - according to PEP8, constants are always named in all upper case\n",
    "API_KEY = 'jc_bQe5j5VwZW6v6YD2H'"
   ]
  },
  {
   "cell_type": "markdown",
   "metadata": {},
   "source": [
    "Qaundl has a large number of data sources, but, unfortunately, most of them require a Premium subscription. Still, there are also a good number of free datasets."
   ]
  },
  {
   "cell_type": "markdown",
   "metadata": {},
   "source": [
    "For this mini project, we will focus on equities data from the Frankfurt Stock Exhange (FSE), which is available for free. We'll try and analyze the stock prices of a company called Carl Zeiss Meditec, which manufactures tools for eye examinations, as well as medical lasers for laser eye surgery: https://www.zeiss.com/meditec/int/home.html. The company is listed under the stock ticker AFX_X."
   ]
  },
  {
   "cell_type": "markdown",
   "metadata": {},
   "source": [
    "You can find the detailed Quandl API instructions here: https://docs.quandl.com/docs/time-series"
   ]
  },
  {
   "cell_type": "markdown",
   "metadata": {},
   "source": [
    "While there is a dedicated Python package for connecting to the Quandl API, we would prefer that you use the *requests* package, which can be easily downloaded using *pip* or *conda*. You can find the documentation for the package here: http://docs.python-requests.org/en/master/ "
   ]
  },
  {
   "cell_type": "markdown",
   "metadata": {},
   "source": [
    "Finally, apart from the *requests* package, you are encouraged to not use any third party Python packages, such as *pandas*, and instead focus on what's available in the Python Standard Library (the *collections* module might come in handy: https://pymotw.com/3/collections/ ).\n",
    "Also, since you won't have access to DataFrames, you are encouraged to us Python's native data structures - preferably dictionaries, though some questions can also be answered using lists.\n",
    "You can read more on these data structures here: https://docs.python.org/3/tutorial/datastructures.html"
   ]
  },
  {
   "cell_type": "markdown",
   "metadata": {},
   "source": [
    "Keep in mind that the JSON responses you will be getting from the API map almost one-to-one to Python's dictionaries. Unfortunately, they can be very nested, so make sure you read up on indexing dictionaries in the documentation provided above."
   ]
  },
  {
   "cell_type": "code",
   "execution_count": 1,
   "metadata": {},
   "outputs": [],
   "source": [
    "# First, import the relevant modules\n",
    "import requests"
   ]
  },
  {
   "cell_type": "code",
   "execution_count": 5,
   "metadata": {},
   "outputs": [],
   "source": [
    "# Now, call the Quandl API and pull out a small sample of the data (only one day) to get a glimpse\n",
    "# into the JSON structure that will be returned\n",
    "df = requests.get('https://www.quandl.com/data/FSE-Frankfurt-Stock-Exchange', params=API_KEY)"
   ]
  },
  {
   "cell_type": "code",
   "execution_count": 10,
   "metadata": {
    "collapsed": true
   },
   "outputs": [
    {
     "data": {
      "text/plain": [
       "'<!DOCTYPE html>\\n<!--[if lt IE 7]> <html lang=\"en\" data-behaviour=\"application\" class=\"lt-ie9 lt-ie8 lt-ie7\"> <![endif]-->\\n<!--[if IE 7]>    <html lang=\"en\" data-behaviour=\"application\" class=\"lt-ie9 lt-ie8\"> <![endif]-->\\n<!--[if IE 8]>    <html lang=\"en\" data-behaviour=\"application\" class=\"lt-ie9\"> <![endif]-->\\n<!--[if gt IE 8]><!--> \\n<html data-behaviour=\\'application\\' lang=\\'en\\'>\\n  <!--<![endif]-->\\n<head profile=\"http://a9.com/-/spec/opensearch/1.1/\">\\n  <meta name=\"msvalidate.01\" content=\"82C779DE57BA1BC37AEF2B7FC6D31D04\"/>\\n\\n  <meta http-equiv=\"Content-Type\" content=\"text/html; charset=UTF-8\"/>\\n  <meta http-equiv=\"X-UA-Compatible\" content=\"IE=edge,chrome=1\"/>\\n\\n  <meta name=\"viewport\" content=\"width=device-width, initial-scale=1, maximum-scale=1, user-scalable=yes\"/>\\n\\n  <meta name=\"robots\" content=\"index, follow\"/>\\n\\n  <link rel=\"search\" type=\"application/opensearchdescription+xml\" title=\"Quandl\" href=\"/opensearch.xml\"/>\\n\\n  <link rel=\"apple-touch-icon-precomposed\" href=\"/images/head/apple-touch-icon.png\">\\n  <link rel=\"icon\" href=\"/images/head/apple-touch-icon.png\">\\n  <link rel=\"image_src\" type=\"image/png\" href=\"/images/head/quandl-logo-social.png\">\\n\\n  <meta property=\"og:title\" content=\"Quandl\">\\n  <meta property=\"og:url\" content=\"https://www.quandl.com\">\\n  <meta property=\"og:description\" content=\"The source for financial, economic, and alternative datasets, serving investment professionals.\">\\n  <meta property=\"og:image\" content=\"http://www.quandl.com/images/head/quandl-logo-social.png\">\\n  <meta property=\"og:type\" content=\"website\">\\n\\n  <meta name=\"twitter:card\" content=\"summary\">\\n  <meta name=\"twitter:image\" content=\"/images/head/quandl-logo-twitter.png\">\\n  <meta name=\"twitter:site\" content=\"@quandl\">\\n  <meta name=\"twitter:title\" content=\"Quandl\">\\n  <meta name=\"twitter:description\" content=\"The source for financial, economic, and alternative datasets, serving investment professionals.\">\\n\\n  <meta name=\"google-site-verification\" content=\"9qvd1SCSyNwmz9cxGqxgtXJHqwsWkVkYUyuz0o5SRys\"/>\\n  <meta name=\"msvalidate.01\" content=\"9AA8D9E90DBCA4138E42EF9D32B42C01\"/>\\n  \\n\\n  <link href=\"https://www.quandl.com/data/FSE-Frankfurt-Stock-Exchange?jc_bQe5j5VwZW6v6YD2H\" rel=\"canonical\" />\\n\\n  \\n  <link rel=\"shortcut icon\" type=\"image/png\" href=\"/assets/quandl-icon-32x32-092ea5839e97c68c141f81fa64724a7007e9df6c10e225b310b2c5258500564b.png\" />\\n\\n  <script>\\n//<![CDATA[\\nwindow.gon={};gon.cache={\"User\":{\"current_user\":{\"id\":null,\"username\":null,\"email\":\"\",\"first_name\":null,\"last_name\":null,\"photo_url\":null,\"api_key\":null,\"administrator\":false,\"should_confirm\":true,\"confirm_email\":\"\",\"card_name\":null,\"address_line1\":null,\"address_line2\":null,\"address_city\":null,\"address_state\":null,\"address_zip\":null,\"address_country\":null,\"stripe_key\":\"pk_live_4VMYwPkOfJUdxHEmOj4lQpyn\",\"features\":{},\"user_id\":null,\"customer_id\":null,\"user_type\":null}}};gon.alerts=[];\\n//]]>\\n</script>\\n    <!-- Google tag manager only works for public site, for production only -->\\n  <!-- Google tag manager data layer init -->\\n  <script>dataLayer = [{}];</script>\\n  <!-- Google Tag Manager -->\\n  <script>(function(w,d,s,l,i){w[l]=w[l]||[];w[l].push({\\'gtm.start\\':\\n  new Date().getTime(),event:\\'gtm.js\\'});var f=d.getElementsByTagName(s)[0],\\n  j=d.createElement(s),dl=l!=\\'dataLayer\\'?\\'&l=\\'+l:\\'\\';j.async=true;j.src=\\n  \\'https://www.googletagmanager.com/gtm.js?id=\\'+i+dl;f.parentNode.insertBefore(j,f);\\n  })(window,document,\\'script\\',\\'dataLayer\\',\\'GTM-PR9P8NJ\\');</script>\\n  <!-- End Google Tag Manager -->\\n\\n  <script>window.prerenderReady = false</script>\\n</head>\\n\\n<body>\\n  <!-- Google tag manager only works for public site, for production only -->\\n  <!-- Google Tag Manager (noscript) -->\\n  <noscript><iframe src=\"https://www.googletagmanager.com/ns.html?id=GTM-PR9P8NJ\"\\n  height=\"0\" width=\"0\" style=\"display:none;visibility:hidden\"></iframe></noscript>\\n  <!-- End Google Tag Manager (noscript) -->\\n\\n<div id=\\'body-content\\'>\\n<div id=\\'spinner\\'>\\n<div class=\\'loader\\'></div>\\n</div>\\n<div class=\\'modal fade\\' id=\\'generic_modal\\'></div>\\n<div id=\\'container\\'>\\n<div id=\\'notices\\'></div>\\n\\n<div class=\\'centered\\' id=\\'main\\' role=\\'main\\'>\\n<div id=\\'content\\'>\\n\\n</div>\\n</div>\\n</div>\\n\\n</div>\\n    <style>\\n      #spinner {\\n        display: none;\\n        position: fixed;\\n        top: 50%;\\n        left: 50%;\\n        -webkit-transform: translate(-50%, -50%);\\n        transform: translate(-50%, -50%);\\n        width: 64px;\\n        height: 64px;\\n      }\\n      #spinner .loader {\\n        width: 64px;\\n        height: 64px;\\n        background-repeat: no-repeat;\\n        background-image: url(\"data:image/gif;base64,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\");\\n      }\\n    </style>\\n    <script type=\"text/javascript\" charset=\"utf-8\">\\n      setTimeout(function(){\\n        var spinner = document.getElementById(\\'spinner\\');\\n        if (spinner) {\\n          spinner.style.display = \\'block\\';\\n        }\\n      }, 2000);\\n    </script>\\n\\n\\n    <link rel=\"stylesheet\" href=\"https://d360wc4uc6n3i9.cloudfront.net/assets/vendor-246de968b4112215bf1d68b9938d901b.css\">\\n<link rel=\"stylesheet\" href=\"https://d360wc4uc6n3i9.cloudfront.net/assets/next-c4f8c91e51523d39f390235201e109f7.css\">\\n\\n<script src=\"https://d360wc4uc6n3i9.cloudfront.net/assets/vendor-7963c2bf3d9d22e47e68076b829ffd33.js\"></script>\\n<script src=\"https://d360wc4uc6n3i9.cloudfront.net/assets/next-34f6ff2322f963a4a7c699f1a03b725e.js\"></script>\\n\\n\\n\\n  <!-- ================== Google Remarketing Tag ========================== -->\\n\\n  <script type=\"text/javascript\">\\n    /* <![CDATA[ */\\n    var google_conversion_id = 922099414;\\n    var google_custom_params = window.google_tag_params;\\n    var google_remarketing_only = true;\\n    /* ]]> */\\n  </script>\\n\\n  <script type=\"text/javascript\" src=\"//www.googleadservices.com/pagead/conversion.js\"></script>\\n\\n  <noscript>\\n    <div style=\"display:inline;\">\\n      <img height=\"1\" width=\"1\" style=\"border-style:none;\" alt=\"\" src=\"//googleads.g.doubleclick.net/pagead/viewthroughconversion/922099414/?value=0&amp;guid=ON&amp;script=0\"/>\\n    </div>\\n  </noscript>\\n\\n\\n<script async type=\"text/javascript\" src=\"/_Incapsula_Resource?SWJIYLWA=719d34d31c8e3a6e6fffd425f7e032f3&ns=1&cb=1760750540\"></script>\\n</body>\\n</html>\\n'"
      ]
     },
     "execution_count": 10,
     "metadata": {},
     "output_type": "execute_result"
    }
   ],
   "source": [
    "df.text"
   ]
  },
  {
   "cell_type": "code",
   "execution_count": 12,
   "metadata": {},
   "outputs": [
    {
     "data": {
      "text/plain": [
       "{'Allow': 'GET, HEAD, POST, PUT, DELETE, OPTIONS, PATCH', 'Cache-Control': 'max-age=0, private, must-revalidate', 'Content-Encoding': 'gzip', 'Content-Type': 'text/html; charset=utf-8', 'Date': 'Mon, 16 Nov 2020 05:11:57 GMT', 'ETag': 'W/\"fbced05a54c7ae94a1a7b94e5f480487\"', 'Server': 'openresty', 'Set-Cookie': 'user_uuid=d689493e-26cd-49da-8a22-6310ba411e58; path=/; expires=Fri, 16 Nov 2040 05:11:56 -0000, visid_incap_2261005=8AO6uCmTT6qHRnwzY0KU7hwKsl8AAAAAQUIPAAAAAABfJOkrsCKemf60g+9Xpyop; expires=Mon, 15 Nov 2021 21:25:06 GMT; HttpOnly; path=/; Domain=.quandl.com; Secure; SameSite=None, nlbi_2261005=hjNxZZripTUajTS1gSMXTwAAAAAx7yz+pcNnvehpgSlD/12H; path=/; Domain=.quandl.com; Secure; SameSite=None, incap_ses_1179_2261005=TjRAQjHZPBt+VG4gdKZcEB0Ksl8AAAAAwr3P+UspwIEdo2LvShektA==; path=/; Domain=.quandl.com; Secure; SameSite=None', 'X-Content-Type-Options': 'nosniff', 'X-Frame-Options': 'SAMEORIGIN', 'X-Rack-CORS': 'miss; no-origin', 'X-Request-Id': '5cfff377-df42-4801-b2d2-a6389cd3419c', 'X-Runtime': '0.026400', 'X-XSS-Protection': '1; mode=block', 'Connection': 'keep-alive', 'Strict-Transport-Security': 'max-age=31536000; includeSubDomains', 'X-CDN': 'Incapsula', 'Transfer-Encoding': 'chunked', 'X-Iinfo': '12-75558343-75558360 NNNN CT(32 137 0) RT(1605503516054 47) q(0 0 1 2) r(2 2) U12'}"
      ]
     },
     "execution_count": 12,
     "metadata": {},
     "output_type": "execute_result"
    }
   ],
   "source": [
    "df.headers"
   ]
  },
  {
   "cell_type": "code",
   "execution_count": 13,
   "metadata": {},
   "outputs": [
    {
     "ename": "JSONDecodeError",
     "evalue": "Expecting value: line 1 column 1 (char 0)",
     "output_type": "error",
     "traceback": [
      "\u001b[1;31m---------------------------------------------------------------------------\u001b[0m",
      "\u001b[1;31mJSONDecodeError\u001b[0m                           Traceback (most recent call last)",
      "\u001b[1;32m<ipython-input-13-7d0a9ef30656>\u001b[0m in \u001b[0;36m<module>\u001b[1;34m\u001b[0m\n\u001b[1;32m----> 1\u001b[1;33m \u001b[0mdf\u001b[0m\u001b[1;33m=\u001b[0m \u001b[0mdf\u001b[0m\u001b[1;33m.\u001b[0m\u001b[0mjson\u001b[0m\u001b[1;33m(\u001b[0m\u001b[1;33m)\u001b[0m\u001b[1;33m\u001b[0m\u001b[1;33m\u001b[0m\u001b[0m\n\u001b[0m",
      "\u001b[1;32m~\\Anaconda3\\lib\\site-packages\\requests\\models.py\u001b[0m in \u001b[0;36mjson\u001b[1;34m(self, **kwargs)\u001b[0m\n\u001b[0;32m    896\u001b[0m                     \u001b[1;31m# used.\u001b[0m\u001b[1;33m\u001b[0m\u001b[1;33m\u001b[0m\u001b[1;33m\u001b[0m\u001b[0m\n\u001b[0;32m    897\u001b[0m                     \u001b[1;32mpass\u001b[0m\u001b[1;33m\u001b[0m\u001b[1;33m\u001b[0m\u001b[0m\n\u001b[1;32m--> 898\u001b[1;33m         \u001b[1;32mreturn\u001b[0m \u001b[0mcomplexjson\u001b[0m\u001b[1;33m.\u001b[0m\u001b[0mloads\u001b[0m\u001b[1;33m(\u001b[0m\u001b[0mself\u001b[0m\u001b[1;33m.\u001b[0m\u001b[0mtext\u001b[0m\u001b[1;33m,\u001b[0m \u001b[1;33m**\u001b[0m\u001b[0mkwargs\u001b[0m\u001b[1;33m)\u001b[0m\u001b[1;33m\u001b[0m\u001b[1;33m\u001b[0m\u001b[0m\n\u001b[0m\u001b[0;32m    899\u001b[0m \u001b[1;33m\u001b[0m\u001b[0m\n\u001b[0;32m    900\u001b[0m     \u001b[1;33m@\u001b[0m\u001b[0mproperty\u001b[0m\u001b[1;33m\u001b[0m\u001b[1;33m\u001b[0m\u001b[0m\n",
      "\u001b[1;32m~\\Anaconda3\\lib\\json\\__init__.py\u001b[0m in \u001b[0;36mloads\u001b[1;34m(s, encoding, cls, object_hook, parse_float, parse_int, parse_constant, object_pairs_hook, **kw)\u001b[0m\n\u001b[0;32m    346\u001b[0m             \u001b[0mparse_int\u001b[0m \u001b[1;32mis\u001b[0m \u001b[1;32mNone\u001b[0m \u001b[1;32mand\u001b[0m \u001b[0mparse_float\u001b[0m \u001b[1;32mis\u001b[0m \u001b[1;32mNone\u001b[0m \u001b[1;32mand\u001b[0m\u001b[1;33m\u001b[0m\u001b[1;33m\u001b[0m\u001b[0m\n\u001b[0;32m    347\u001b[0m             parse_constant is None and object_pairs_hook is None and not kw):\n\u001b[1;32m--> 348\u001b[1;33m         \u001b[1;32mreturn\u001b[0m \u001b[0m_default_decoder\u001b[0m\u001b[1;33m.\u001b[0m\u001b[0mdecode\u001b[0m\u001b[1;33m(\u001b[0m\u001b[0ms\u001b[0m\u001b[1;33m)\u001b[0m\u001b[1;33m\u001b[0m\u001b[1;33m\u001b[0m\u001b[0m\n\u001b[0m\u001b[0;32m    349\u001b[0m     \u001b[1;32mif\u001b[0m \u001b[0mcls\u001b[0m \u001b[1;32mis\u001b[0m \u001b[1;32mNone\u001b[0m\u001b[1;33m:\u001b[0m\u001b[1;33m\u001b[0m\u001b[1;33m\u001b[0m\u001b[0m\n\u001b[0;32m    350\u001b[0m         \u001b[0mcls\u001b[0m \u001b[1;33m=\u001b[0m \u001b[0mJSONDecoder\u001b[0m\u001b[1;33m\u001b[0m\u001b[1;33m\u001b[0m\u001b[0m\n",
      "\u001b[1;32m~\\Anaconda3\\lib\\json\\decoder.py\u001b[0m in \u001b[0;36mdecode\u001b[1;34m(self, s, _w)\u001b[0m\n\u001b[0;32m    335\u001b[0m \u001b[1;33m\u001b[0m\u001b[0m\n\u001b[0;32m    336\u001b[0m         \"\"\"\n\u001b[1;32m--> 337\u001b[1;33m         \u001b[0mobj\u001b[0m\u001b[1;33m,\u001b[0m \u001b[0mend\u001b[0m \u001b[1;33m=\u001b[0m \u001b[0mself\u001b[0m\u001b[1;33m.\u001b[0m\u001b[0mraw_decode\u001b[0m\u001b[1;33m(\u001b[0m\u001b[0ms\u001b[0m\u001b[1;33m,\u001b[0m \u001b[0midx\u001b[0m\u001b[1;33m=\u001b[0m\u001b[0m_w\u001b[0m\u001b[1;33m(\u001b[0m\u001b[0ms\u001b[0m\u001b[1;33m,\u001b[0m \u001b[1;36m0\u001b[0m\u001b[1;33m)\u001b[0m\u001b[1;33m.\u001b[0m\u001b[0mend\u001b[0m\u001b[1;33m(\u001b[0m\u001b[1;33m)\u001b[0m\u001b[1;33m)\u001b[0m\u001b[1;33m\u001b[0m\u001b[1;33m\u001b[0m\u001b[0m\n\u001b[0m\u001b[0;32m    338\u001b[0m         \u001b[0mend\u001b[0m \u001b[1;33m=\u001b[0m \u001b[0m_w\u001b[0m\u001b[1;33m(\u001b[0m\u001b[0ms\u001b[0m\u001b[1;33m,\u001b[0m \u001b[0mend\u001b[0m\u001b[1;33m)\u001b[0m\u001b[1;33m.\u001b[0m\u001b[0mend\u001b[0m\u001b[1;33m(\u001b[0m\u001b[1;33m)\u001b[0m\u001b[1;33m\u001b[0m\u001b[1;33m\u001b[0m\u001b[0m\n\u001b[0;32m    339\u001b[0m         \u001b[1;32mif\u001b[0m \u001b[0mend\u001b[0m \u001b[1;33m!=\u001b[0m \u001b[0mlen\u001b[0m\u001b[1;33m(\u001b[0m\u001b[0ms\u001b[0m\u001b[1;33m)\u001b[0m\u001b[1;33m:\u001b[0m\u001b[1;33m\u001b[0m\u001b[1;33m\u001b[0m\u001b[0m\n",
      "\u001b[1;32m~\\Anaconda3\\lib\\json\\decoder.py\u001b[0m in \u001b[0;36mraw_decode\u001b[1;34m(self, s, idx)\u001b[0m\n\u001b[0;32m    353\u001b[0m             \u001b[0mobj\u001b[0m\u001b[1;33m,\u001b[0m \u001b[0mend\u001b[0m \u001b[1;33m=\u001b[0m \u001b[0mself\u001b[0m\u001b[1;33m.\u001b[0m\u001b[0mscan_once\u001b[0m\u001b[1;33m(\u001b[0m\u001b[0ms\u001b[0m\u001b[1;33m,\u001b[0m \u001b[0midx\u001b[0m\u001b[1;33m)\u001b[0m\u001b[1;33m\u001b[0m\u001b[1;33m\u001b[0m\u001b[0m\n\u001b[0;32m    354\u001b[0m         \u001b[1;32mexcept\u001b[0m \u001b[0mStopIteration\u001b[0m \u001b[1;32mas\u001b[0m \u001b[0merr\u001b[0m\u001b[1;33m:\u001b[0m\u001b[1;33m\u001b[0m\u001b[1;33m\u001b[0m\u001b[0m\n\u001b[1;32m--> 355\u001b[1;33m             \u001b[1;32mraise\u001b[0m \u001b[0mJSONDecodeError\u001b[0m\u001b[1;33m(\u001b[0m\u001b[1;34m\"Expecting value\"\u001b[0m\u001b[1;33m,\u001b[0m \u001b[0ms\u001b[0m\u001b[1;33m,\u001b[0m \u001b[0merr\u001b[0m\u001b[1;33m.\u001b[0m\u001b[0mvalue\u001b[0m\u001b[1;33m)\u001b[0m \u001b[1;32mfrom\u001b[0m \u001b[1;32mNone\u001b[0m\u001b[1;33m\u001b[0m\u001b[1;33m\u001b[0m\u001b[0m\n\u001b[0m\u001b[0;32m    356\u001b[0m         \u001b[1;32mreturn\u001b[0m \u001b[0mobj\u001b[0m\u001b[1;33m,\u001b[0m \u001b[0mend\u001b[0m\u001b[1;33m\u001b[0m\u001b[1;33m\u001b[0m\u001b[0m\n",
      "\u001b[1;31mJSONDecodeError\u001b[0m: Expecting value: line 1 column 1 (char 0)"
     ]
    }
   ],
   "source": [
    "df= df.json()"
   ]
  },
  {
   "cell_type": "code",
   "execution_count": null,
   "metadata": {},
   "outputs": [],
   "source": [
    "???"
   ]
  },
  {
   "cell_type": "code",
   "execution_count": 9,
   "metadata": {},
   "outputs": [
    {
     "data": {
      "text/plain": [
       "[b'<!DOCTYPE html>\\n<!--[if lt IE 7]> <html lang=\"en\" data-behaviour=\"application\" class=\"lt-ie9 lt-ie8 lt-ie7\"> <![endif]-->\\n<!--[i',\n",
       " b'f IE 7]>    <html lang=\"en\" data-behaviour=\"application\" class=\"lt-ie9 lt-ie8\"> <![endif]-->\\n<!--[if IE 8]>    <html lang=\"en\" d',\n",
       " b'ata-behaviour=\"application\" class=\"lt-ie9\"> <![endif]-->\\n<!--[if gt IE 8]><!--> \\n<html data-behaviour=\\'application\\' lang=\\'en\\'>\\n ',\n",
       " b' <!--<![endif]-->\\n<head profile=\"http://a9.com/-/spec/opensearch/1.1/\">\\n  <meta name=\"msvalidate.01\" content=\"82C779DE57BA1BC37A',\n",
       " b'EF2B7FC6D31D04\"/>\\n\\n  <meta http-equiv=\"Content-Type\" content=\"text/html; charset=UTF-8\"/>\\n  <meta http-equiv=\"X-UA-Compatible\" c',\n",
       " b'ontent=\"IE=edge,chrome=1\"/>\\n\\n  <meta name=\"viewport\" content=\"width=device-width, initial-scale=1, maximum-scale=1, user-scalabl',\n",
       " b'e=yes\"/>\\n\\n  <meta name=\"robots\" content=\"index, follow\"/>\\n\\n  <link rel=\"search\" type=\"application/opensearchdescription+xml\" tit',\n",
       " b'le=\"Quandl\" href=\"/opensearch.xml\"/>\\n\\n  <link rel=\"apple-touch-icon-precomposed\" href=\"/images/head/apple-touch-icon.png\">\\n  <li',\n",
       " b'nk rel=\"icon\" href=\"/images/head/apple-touch-icon.png\">\\n  <link rel=\"image_src\" type=\"image/png\" href=\"/images/head/quandl-logo-',\n",
       " b'social.png\">\\n\\n  <meta property=\"og:title\" content=\"Quandl\">\\n  <meta property=\"og:url\" content=\"https://www.quandl.com\">\\n  <meta ',\n",
       " b'property=\"og:description\" content=\"The source for financial, economic, and alternative datasets, serving investment professional',\n",
       " b's.\">\\n  <meta property=\"og:image\" content=\"http://www.quandl.com/images/head/quandl-logo-social.png\">\\n  <meta property=\"og:type\" ',\n",
       " b'content=\"website\">\\n\\n  <meta name=\"twitter:card\" content=\"summary\">\\n  <meta name=\"twitter:image\" content=\"/images/head/quandl-log',\n",
       " b'o-twitter.png\">\\n  <meta name=\"twitter:site\" content=\"@quandl\">\\n  <meta name=\"twitter:title\" content=\"Quandl\">\\n  <meta name=\"twit',\n",
       " b'ter:description\" content=\"The source for financial, economic, and alternative datasets, serving investment professionals.\">\\n\\n  <',\n",
       " b'meta name=\"google-site-verification\" content=\"9qvd1SCSyNwmz9cxGqxgtXJHqwsWkVkYUyuz0o5SRys\"/>\\n  <meta name=\"msvalidate.01\" conten',\n",
       " b't=\"9AA8D9E90DBCA4138E42EF9D32B42C01\"/>\\n  \\n\\n  <link href=\"https://www.quandl.com/data/FSE-Frankfurt-Stock-Exchange?jc_bQe5j5VwZW6',\n",
       " b'v6YD2H\" rel=\"canonical\" />\\n\\n  \\n  <link rel=\"shortcut icon\" type=\"image/png\" href=\"/assets/quandl-icon-32x32-092ea5839e97c68c141f',\n",
       " b'81fa64724a7007e9df6c10e225b310b2c5258500564b.png\" />\\n\\n  <script>\\n//<![CDATA[\\nwindow.gon={};gon.cache={\"User\":{\"current_user\":{\"i',\n",
       " b'd\":null,\"username\":null,\"email\":\"\",\"first_name\":null,\"last_name\":null,\"photo_url\":null,\"api_key\":null,\"administrator\":false,\"sho',\n",
       " b'uld_confirm\":true,\"confirm_email\":\"\",\"card_name\":null,\"address_line1\":null,\"address_line2\":null,\"address_city\":null,\"address_sta',\n",
       " b'te\":null,\"address_zip\":null,\"address_country\":null,\"stripe_key\":\"pk_live_4VMYwPkOfJUdxHEmOj4lQpyn\",\"features\":{},\"user_id\":null,',\n",
       " b'\"customer_id\":null,\"user_type\":null}}};gon.alerts=[];\\n//]]>\\n</script>\\n    <!-- Google tag manager only works for public site, fo',\n",
       " b'r production only -->\\n  <!-- Google tag manager data layer init -->\\n  <script>dataLayer = [{}];</script>\\n  <!-- Google Tag Manag',\n",
       " b\"er -->\\n  <script>(function(w,d,s,l,i){w[l]=w[l]||[];w[l].push({'gtm.start':\\n  new Date().getTime(),event:'gtm.js'});var f=d.getE\",\n",
       " b\"lementsByTagName(s)[0],\\n  j=d.createElement(s),dl=l!='dataLayer'?'&l='+l:'';j.async=true;j.src=\\n  'https://www.googletagmanager.\",\n",
       " b\"com/gtm.js?id='+i+dl;f.parentNode.insertBefore(j,f);\\n  })(window,document,'script','dataLayer','GTM-PR9P8NJ');</script>\\n  <!-- E\",\n",
       " b'nd Google Tag Manager -->\\n\\n  <script>window.prerenderReady = false</script>\\n</head>\\n\\n<body>\\n  <!-- Google tag manager only works',\n",
       " b' for public site, for production only -->\\n  <!-- Google Tag Manager (noscript) -->\\n  <noscript><iframe src=\"https://www.googleta',\n",
       " b'gmanager.com/ns.html?id=GTM-PR9P8NJ\"\\n  height=\"0\" width=\"0\" style=\"display:none;visibility:hidden\"></iframe></noscript>\\n  <!-- E',\n",
       " b\"nd Google Tag Manager (noscript) -->\\n\\n<div id='body-content'>\\n<div id='spinner'>\\n<div class='loader'></div>\\n</div>\\n<div class='m\",\n",
       " b\"odal fade' id='generic_modal'></div>\\n<div id='container'>\\n<div id='notices'></div>\\n\\n<div class='centered' id='main' role='main'>\",\n",
       " b\"\\n<div id='content'>\\n\\n</div>\\n</div>\\n</div>\\n\\n</div>\\n    <style>\\n      #spinner {\\n        display: none;\\n        position: fixed;\\n \",\n",
       " b'       top: 50%;\\n        left: 50%;\\n        -webkit-transform: translate(-50%, -50%);\\n        transform: translate(-50%, -50%);\\n',\n",
       " b'        width: 64px;\\n        height: 64px;\\n      }\\n      #spinner .loader {\\n        width: 64px;\\n        height: 64px;\\n        b',\n",
       " b'ackground-repeat: no-repeat;\\n        background-image: url(\"data:image/gif;base64,R0lGODlhMAAwAMQfAMzMzMLCwtPT06urq7q6urOzs5ubm1',\n",
       " b'5eXnR0dPn5+YKCgoyMjKOjo5OTk/39/UtLS3t7e/X19UJCQjk5OfHx8d3d3WpqamRkZNnZ2eLi4u3t7VNTU+jo6CkpKf///////yH/C05FVFNDQVBFMi4wAwEAAAAh/w',\n",
       " b'tYTVAgRGF0YVhNUDw/eHBhY2tldCBiZWdpbj0i77u/IiBpZD0iVzVNME1wQ2VoaUh6cmVTek5UY3prYzlkIj8+IDx4OnhtcG1ldGEgeG1sbnM6eD0iYWRvYmU6bnM6bW',\n",
       " b'V0YS8iIHg6eG1wdGs9IkFkb2JlIFhNUCBDb3JlIDUuNS1jMDIxIDc5LjE1NDkxMSwgMjAxMy8xMC8yOS0xMTo0NzoxNiAgICAgICAgIj4gPHJkZjpSREYgeG1sbnM6cm',\n",
       " b'RmPSJodHRwOi8vd3d3LnczLm9yZy8xOTk5LzAyLzIyLXJkZi1zeW50YXgtbnMjIj4gPHJkZjpEZXNjcmlwdGlvbiByZGY6YWJvdXQ9IiIgeG1sbnM6eG1wPSJodHRwOi',\n",
       " b'8vbnMuYWRvYmUuY29tL3hhcC8xLjAvIiB4bWxuczp4bXBNTT0iaHR0cDovL25zLmFkb2JlLmNvbS94YXAvMS4wL21tLyIgeG1sbnM6c3RSZWY9Imh0dHA6Ly9ucy5hZG',\n",
       " b'9iZS5jb20veGFwLzEuMC9zVHlwZS9SZXNvdXJjZVJlZiMiIHhtcDpDcmVhdG9yVG9vbD0iQWRvYmUgUGhvdG9zaG9wIENDIChNYWNpbnRvc2gpIiB4bXBNTTpJbnN0YW',\n",
       " b'5jZUlEPSJ4bXAuaWlkOjczRkFDMTc5RDJBQjExRTVCQjM4RjFFMjZDRUE3MEUyIiB4bXBNTTpEb2N1bWVudElEPSJ4bXAuZGlkOjczRkFDMTdBRDJBQjExRTVCQjM4Rj',\n",
       " b'FFMjZDRUE3MEUyIj4gPHhtcE1NOkRlcml2ZWRGcm9tIHN0UmVmOmluc3RhbmNlSUQ9InhtcC5paWQ6NzNGQUMxNzdEMkFCMTFFNUJCMzhGMUUyNkNFQTcwRTIiIHN0Um',\n",
       " b'VmOmRvY3VtZW50SUQ9InhtcC5kaWQ6NzNGQUMxNzhEMkFCMTFFNUJCMzhGMUUyNkNFQTcwRTIiLz4gPC9yZGY6RGVzY3JpcHRpb24+IDwvcmRmOlJERj4gPC94OnhtcG',\n",
       " b'1ldGE+IDw/eHBhY2tldCBlbmQ9InIiPz4B//79/Pv6+fj39vX08/Lx8O/u7ezr6uno5+bl5OPi4eDf3t3c29rZ2NfW1dTT0tHQz87NzMvKycjHxsXEw8LBwL++vby7ur',\n",
       " b'm4t7a1tLOysbCvrq2sq6qpqKempaSjoqGgn56dnJuamZiXlpWUk5KRkI+OjYyLiomIh4aFhIOCgYB/fn18e3p5eHd2dXRzcnFwb25tbGtqaWhnZmVkY2JhYF9eXVxbWl',\n",
       " b'lYV1ZVVFNSUVBPTk1MS0pJSEdGRURDQkFAPz49PDs6OTg3NjU0MzIxMC8uLSwrKikoJyYlJCMiISAfHh0cGxoZGBcWFRQTEhEQDw4NDAsKCQgHBgUEAwIBAAAh+QQFBQ',\n",
       " b'AfACwAAAAAMAAwAAAF/6AnjmRpnmiqrmzrvh5gGIED32jSbPymULgWBqAxMR6H5OHRCKowC4QFQiBRLBvlIZtxnjSKC0JqCYwEW+0W4DUNxGPEZZEQabDaLKZkczbgY1',\n",
       " b'McIwYSWhJ0IwEQYgN9MAYWcVIKESMcCA88DxZdHg4LE6KiCHUwAJJxBwMlFAMKEAyDIgETEg+4DxMGOARkFgamfMKfCLe5DxIbljcZAwxsLgkHx7m3FW0vCRbVuMpFKR',\n",
       " b'oBAwCPTgMTyLoKKhxRYwbMThQXHbcSHQ+eJwkGCAoALThq427DLQh7UmSAABAghAXyvGQQgG0FBwgMHTYglo1FggFTYFmo0hFGBAMYY7pFLNnCgYAAAljKnEmzps2bOD',\n",
       " b'1EqLAyJwkHAWYYSOizBIAFDQw0aDCrqAgHA5LOWBDN6aeoQqlaHXE06dJ9VoEKFWCuTdkVO3t62UmBo1UKFeI23eohQwW7c2/sFADWhYa4GMDh0EBgQIEBfVtQWOwFwA',\n",
       " b'ACBQoQOOshgQPK2YBG3szRwUQBGDC3EWD4cI0SEQAIEAAgb8kIASIHAFIig2rWRGc64MCBMoXbABIX9by6gmifCdzSXc7cZwgAIfkEBQUAHwAsAAAAADAAMAAABTrgJ4',\n",
       " b'5kaZ5oqq5s675wLM90bd94ru987//AoHBILBqPyKRyyWw6n9CodEqtWq/YrHbL7Xq/4LB4rAsBACH5BAUFAB8ALAAAAAAwADAAAAX/oCeOZGmeaKqubOu+HhUQHGyrgb',\n",
       " b'VtVuHcLcfPVLlsDofNgwBUJQiNxoBSajyQyAdk2Cw5BogwokEVOSBXLK/WLQkgEIUcUSAt0llEpF0qxOUKCAYkADtISnUjGQYQDQJAAX9zA30HDw8bgyMABxOeEokwEQ',\n",
       " b'sIcRAIjyUZBQOpIhkbE5cPEhOuLxwNcAsBXCsGsrMPEwtADhUAZS4QEsK0CL58KwvBsxMK0UQAGdICE82XtQFOBQoLvNk2A57sCgk4EOdyFdIBChYQTCoRBubyoXz2sE',\n",
       " b'jAwN8CBQCltYgkTwE9hSIoDDg37sSTcw0AQBRBYEOHjxMgaEBBQYBAiBgkunSQwHJChwYbWSxYybLlA24xUUToVLNmB0o5T+z81tMl0KAmZvasdfOEg3cxU9Ks9fKEBg',\n",
       " b'IDAJxU2PFjh5AjS3BgYIBsAagQJVJEIcDAgAFkHyJl6xauAblzTYxlYBZtXiKsCGz9a+Ip4cOIE5OgQMGvYgcYCAQA4Bjx1QAz8JIQMjeDZMwAojnQkCGDhnQBMc/ASS',\n",
       " b'JBhdIVKktzwAFAgArZIrzOEHuuYYsZMLyWfTiBBg3EFStfznx5CAAh+QQFBQAfACwDAAIALAApAAAF/+AnjmRpigJAnWzrlhiEIFDgvTjp3WaGWDPLJZDDeQSMDyFRGg',\n",
       " b'BniEuj6PIEICMGU+RpXKA/RYTK4ihGWADJ8IVeFg7yidgkVX7BIYlTMAwqVIBYIwUlV0IIhSMCFxuOB3RGBiIyChwmGgEBGSQaBxsHoaCAORRJCgYZPDgFD6GvD5NFHh',\n",
       " b'kZcVQNoK+fZ3JyDK67Gw2rJBQYW752j6IbAiYOAQYNDM/KJAQbD9oPA8UiAAsN0w2c1yMADRALkSQOA+MGBgtq50UOBQvy8/X2ORjiyF3ypwPAgAEDRTgAwIAaKYIiMk',\n",
       " b'CQMGHCBm8kIlRIBpHCAREPHnyYQACiCwYTQtuq/GBhjEloCD6oDCnT2kt3MWc+kPDA5s0sKWeydPnBw62XHkGKJDkiAoAAyG5KpGgR44cEBAYUGNDPpAeDCO1oLUBWw0',\n",
       " b'8WGAYQIFvArL8EAAoAcGuCQtat7a4B2NCh7wNFJpwG6Kp3QoeKhjsALmEU4oXDiA1vIHq2QuTLeW8GuBx5AJUxR3Fk4IzYp4sMAABgCP0CAmTEHS4UcSoghbkcGvj27S',\n",
       " b'sBQxEKAGoLwPCt8QcHxTRMnCDhgmkXcGsDSEgiQ4UKtkxwUC3Hg4baHL5dHYGBMkTWI7yfCwEAIfkEBQUAHwAsAwACACwAKgAABf/gJ45kaX5OliVn674l14hKBd/4Ry',\n",
       " b'kkkuW4wiBgKpQsDA/QBVgongMHiWEhXRrKpYniXHgVAlKhOkJmtSSBd60gkHYX0QWBITkEBIA0x1l/iSQYPBYQgCI7IxA/OQUQXw0aJgkAAJEjCQoPIw8WFDkJBA0LDB',\n",
       " b'xAYUVLEaVLBJolBmdoOAAmDwMtEYuybxauIgc2JQkCAwwFFbGyGBcSDxIbbiYVBgwMBgOWuyIZAw0MpyUeAdcDAwbg2iLJJOLk5ujpMBzV1gMR8dIEAZ4jHhVCBXTh+6',\n",
       " b'AhkwQJBwyJcJBgz8APCSCIOPhBAq2HLYhIKIHAIcZ+M0pM2LDqI8gTJE2vltDI0eO6eBEnbrR4qQKGYBgLOkOoEIA+AshMVtDHb5u+AAEA3FOZDynSoto8YAAgYKmJCA',\n",
       " b'F+XkwnwMKEX1uFTcXAIl2wgxsnhGWKoCLajRfKMuUw860IeB8r1EVbUSEMhi9xaXo7U+ALDRgEGIaxwC1fiUAuQmWXjMIBEV8/bFiMawQAzh5CV15w4MEDBSVvOKhACa',\n",
       " b'IJ0aJNrM4GJAUGDR7VwQ68i/eH3UxbwEYTAgAh+QQFBQAfACwEAAIAKwApAAAF/+AnjmRpeknimWzrtkmxKAP13vgYGQgEIQtb7sYhFAQrUgChaCoQhOGr0mgsGoEEac',\n",
       " b'B0IhjSloPRMBiqGGXPWwizOOY4lhRp9H5BkqcSqCRxCXFmDQAlGgZNDRUkCQwXBwd5OQBXBgsMESccfiQOBh8bIwpaOB4BZgVCORWhJBuLQyl/k60jD1FuYRkHJoUnKr',\n",
       " b'kmERCgIg8ImXoVRgHJwSMZEKEPFmklHAyfHwWkzyIJAAQBGiwCIwwMGd5S5iLo6utDAyPc8SYcAUgkFAEFzfadDFzYcACCLxErZtlz0EACwQ0PDrQDyALABoKQDjxYoJ',\n",
       " b'CiiAESMkI65szjCJAiD5xsQGayhEWMIzm27NTwYcR2DjgI0ODApKeBBQ9OnPkBnz4RHJQQvReADsAMGDJ0/ABuBKd1GhRImCABgjUTFTDwjKeB14QPZx8kZTE1l7YSEN',\n",
       " b'raS8DLhIS1MyM8aAELkBu6LDZ0c4GiQgZVOeaROPv2RYIKhjEMvuEBQQkEk11EzVAh8wsPDCwQNOC5xSbIwTyMdUOBQ+mlH+SuCwEAIfkEBQUAHwAsBAACACsALQAABf',\n",
       " b'/gJ45kaYrOqa6sCTQGkbR07RUkE9V0JAgUE0cBERUBPBaF8YFlPCRAkYRLqgqLESM4EkyNAetp1iBVSAnDB4H4GGakSIVbcwzKTQOnFCmUtyQOBRBsDHA0FWVlAVAmER',\n",
       " b'olNwcWCBYXTDwZBAMCKTwabKGVVh6eSRUXoggXSGJiqqtnJ6auaAyTbBdZjgABAoe1IhQNlhYLe3ybBQNhwSQeAgEAwCMVAwXYBZDOmdfZ29w9AdcDreGRGBklCQIAv+',\n",
       " b'fPBQgHuuAijfD3Aw8PGyII9vKRyHDAhBqBJgg8MAGBFsIPChk6REjQ4MNI+/r925Yggkd88DwMsFTvXgYAKHfVPIyQLs6PdhVAXhTh4wcADDKDUagQcISHkyh7ukpz4M',\n",
       " b'GBBUI/QKKQU0wCBSMkfLiQdGItAhM+8OM34eBMBwgkbOUn4QA1gQ4siB0rViUND01FcEAp64OHLGMfSLiQRIOGBDLtSOjQYYKCbRiybpUwgUAdDhgqqCthgPCEyx0swC',\n",
       " b'nA+MMECQvirpuMwe2HAJYvY67yQcACBBAY8fBAAcMHDrQWFFaNGQEtuE47OgCJYDfvDmZnftDNG/OXiwAmGMfsWLmb1IQhnH044ADjB3isk2hHJ0kIACH5BAUFAB8ALA',\n",
       " b'QAAgArAC0AAAX/oCeOZGmKzqmurCkMDJC0dO0BkLJAg11zGIqJsygWFRXfKkFgMAacEsZ4DChVAMOTUUiNNNSFAnM1OQpPGCNKIijeCsaMlOAIbY6AYaCOmPQGBX4kAA',\n",
       " b'oIClY2HANaBgIqCXMkARcWCBYXBD4cAQEZShEKlgiXCBplShmkqwgXSag2GhCjq58nXrBtB5YWB3ImCRgAGLi5Z6UGg3QABAEEr7kjHADQJZydncrRLdfY2ttLzM7V4C',\n",
       " b'PfHgkVGBWS5TeGPMXufxsP9Q8N7fNfFw8H/wc2JNpHaAPAfxsaECwBwODBhAtJaLDgD6DAiJPq3cs3IpK+coUQxDNXoeQdgucyplRQaQsjCZYr550jEaFkhZPR3FiAQE',\n",
       " b'BexwgfUTWYMEEC0QVB5wko+qCp0YERF0xoSnWCApceIEig6tSCT1QRMAhgI8LAVK5WyxE4MKHDgwFzMEjY6lTCo20DOnSY2/aqCAIPiBZlAK6ChL1zjU4AMKKCAQgNGI',\n",
       " b'NjgDjx4QUuDVRO3AGBy7yW53bAjFHDg81EJWMs0JZohwkGsIoAYKHegQKySQBBFQIAIfkEBQUAHwAsBAACACoALQAABf+gJ45kaZ5oqqIZQVRrLHtYYy/CvDoc55gJQ8',\n",
       " b'MgNHB0qEigUCBoSpkhUYhBngAD5iDwG1GKRYq15FgymYkSoLFoB06JrgxLOKdLgsIAIBdpBgsGOTIaBFkDGH0rGRAIjQgAMxEVAhlIDgwICpsIC2JjkgsQm5sQlqAyQZ',\n",
       " b'qlCk+ocwiOEBYDig4VGBqKqAGkBXcjCQIEAS+vJRQVRyYUAc7OEccyEQDPANHSMRXEAafZOxoCFMDfHhUGbQTlKhgIF+8XtetACxexsRaD8yOMFvcItPaR6PcvoEARCe',\n",
       " b'oV1Hew3QUL7+R5SIBt37l0XipUcHUQSoUMGzt6BMkxGzlkGr2RSVujoEEkOAniZCvw4MGGmgNEmtuw4YBPngz3MXjgs+iGBiIb9Cx6YIOCXaBAkqPJ9MADA9kAILhp4Y',\n",
       " b'2fpkYPwDhGQMIECWYnMBghwALPnl5faTgwoWbNs/o4FDAwYNmxAnXt3sV6cEBgwRMWdAyAVvADtR0jWDj8+IHKfQIeT9gsoYBOGgouHIDw8vPEkjNCAAAh+QQFBQAfAC',\n",
       " b'wEAAMAKgAsAAAF/+AnjmRpUoJAmWzrshljGEz23qSXJJ7pFIzBIJjA3TwVUaBISgyFDIbG+LKNAKVf8OmgtjyCAUE0LsVkDMHXmyx8BoFuSQMIcHolAqOQNCawAwV3Xh',\n",
       " b'8LCoYKfTgOGBgrhAUQC5MKA3KEXgkMh5MLDY+YVB4DnIYGTKFUGAqsChAAeCMeERQRsakjAgwNBrAlHnQAAKC4shqoJBHCAgAVt8U4AMzO0FTBAhHVorQ82iURBbxY3i',\n",
       " b'8aCxYiFgHP5CIOBiQWCFbtyQomZfUjEfd5+iTv4s37R8KchQsf1OFxcKkeOHGyOGSg0JCgiClJKlqc8iGDxmLsjGHQ8DFUjAXwvrrYColJwAEJDyRsyEeQg4UHJRSVIz',\n",
       " b'BAjRc3JR4wwGHgwYQOEwYaGcCiAUsRDTognXD0ALKLg0YEYAG0BYajVMN2SCmiQoMDG17tg4BTxAML2VwwmBq2alwBG0hIyMcBwggLOlkYoFt3w5QEEDqUOADKAYBASw',\n",
       " b'lPkNDBQhEAEiTo/UCTkIYNkjuU6TyCKa4AYI92WJCr7YjMW4sJUPDgbdcPHhCYuEAMl0SNNklsGGfxQwQDBxMV//XURQgAIfkEBQUAHwAsBAADACoAKwAABf+gJ45kaS',\n",
       " b'YZRpls67JaYRhD9t6lk7QBPTAFBw6nAQQqQpKjwBj8BruhKxGoEmxKQvMZlbIyhGoAkBxxfk2sFxYOECosigCgMUUAA8Jq6Ki4A11DFAYQChANe4IaEWseARALkRAEjY',\n",
       " b'0OAwqRCwoGgZU4j5oKDJ6fLxoNhZkYLAkRpaYZAzSsJhQVuImmJIwtGRW/artDwcDDXre4vcdDCc7MJwFAHNA3EQYI2Qq11SwDCKqFut0iCQ0ICumGAeQl5ujqEOztJN',\n",
       " b'/hCuPt19no3PQjVKb9G0iwYDsNBGhQM4jBwgMJDw4AKJgAQsQDByIKe1GljpcKGzCKfFAAR4EDEyanPFiQj8dFkRsG3BgwoUPKDh0glFFSooLIkfNacHjQQYJRCTUpjY',\n",
       " b'jAIJsBNQ4MSBApAcIyFgVsHjXaQYEZBClrbhCwdIFIBR5dMCi6VUIHBCMUdHhA98EEBIEqAIADKmXbDg1EgFRZF+LETwkusOU6gawHAA/rPpyg9JOADTZrTpApIsMGwn',\n",
       " b'SNOjbFoQFGeSUWTIA4GS+zCC0jKECa0kJaggTSDbiKIwQAIfkEBQUAHwAsAgADACwAKwAABf/gJ45kaYoex0Vn675lEgwDocG46bRYTQyBnPBTqXA8JQ+gwGQOcQCAAM',\n",
       " b'BJAgbNwO7ZokinGCSJQmDauK7IF5A5RTIViilRCQAS3Ey0shUmCgsNCwNoERFiQxgLBowKAGhoHoCMBgsEiJBDi4wLAZiZOBEMC6QGVS+foBozZy8YGqmgsS03oKq2kK',\n",
       " b'+zuC+HvCYeAgWtvzAJAxAQHwttxS9BIwgNfc5JBiTKzdXW2B/aAQoIjtXQItI7CQod6+sNzsfJy80N6xP26wXODgIErRX2AO9toLZtQIeAAbVt+8AAYcKFIwQ4nNBhAx',\n",
       " b'5Z/O7ogHAwYAdCoCg0sHDAwoJTJDTRXGC3DsJFSA4YHEBA80CDlyMcIJtJgEQFAQRhZLBAs+iFCmlIAECw4cEBBrtKYLhQlOaFR1AeTJAgwZ67E584VKVpASmMCBYmPF',\n",
       " b'j7gKsAEh4IGGhQgMWIAReIIniKswUArmzXMhyRoAFbCQhQ6izKoG8LAhM+BH7w4StDpwcyS1hQgkKcIQLaTp4AEu2GzJlPY7DlQIFkthM2nBp6GvWBDVhBcUg74kG5BB',\n",
       " b'Awpz6gMNMxmgbMjijwoPaBBw2iPvHg+EMCAxuyb1hQHSIARlqehAAAIfkEBQUAHwAsAgADACwAKwAABf+gJ45kaY6adq5sayYCQQiJa5vOWhFBQFS3oCODUZkwvR4gF2',\n",
       " b'w5KoBorZTh+QTM5ioCEAgAGRxAGdG2EpgogHJycDhZUgYcvznSmbrLATD4A1NNDoFNGQYMAwMGGGaNIn2JigSOjRgGkQYAlGYJAX6XZZtafAQARqKoqaqrrK2uQRQAFX',\n",
       " b'qvIg4BDQsLDGy1JQIKugsKA7SuBMHCDYS+yMILyyN9CgZArMDCxEwNEx3eEgOst8K8IgYdExLq6AKtGrJMGg/p6usIxqoBE/T16aG1BPbVUzfhwb9XHOYNlDDBAr4gc6',\n",
       " b'yZaICuXwdNmxIMQGABQYNeJCJA8OZtggFUAw64dLRwgAEtZAgUYBShIYwWDRA6IthpwaaNCgo2bLAwCeLOowgOMLKBYcM+gQWCRFCgkyOCUywcICj4oOuEDRxKAFA0U0',\n",
       " b'SACysvFHWB4YGErnAnhBsxYMPbDdGkKUAAYa2LAG7hdu3AYASBBxsOHLB7kkQCDiBtZHAqmOFaBQ8UKx6K1RG3t14RhEqAILHmDReWbnKw4OkEpSMcYNa8+EJnSgGGMe',\n",
       " b'gcQOjmB4V9kSCwWGhj4XIStdMSAgAh+QQFBQAfACwCAAMALAArAAAF/+AnjmRpjkl0rmxrehkQVI5rvysVjNntfxROpGYijASeXyuRqVQwJ85OlEkqWZhMM/HqAQTcK6',\n",
       " b'uZwYRLnoTDWgpq2L5EJUO5ejCMDwNA/J2VGgMiDAwcYocZhHofUIdXHIp5FY5XDgCEDAF/lDd3ABhwnKKjpKWmp6g3GByhqSMeAAYNDQWbrh8aswYGCwGtqQENu7IGty',\n",
       " b'XBw8IkGQMGA3WmucK8voMSIxtTpLCytGFGHSITHxKTphSrVg4HJwrGjNcmB7amAvEl88YUGyYd7qIUBBg6IYhEhwkCODkooACCggG2PDQYJ+JBAVEBLCCAAMHCgF8CDC',\n",
       " b'gw0OPVrxYUFq44VNBQgQYfEQY0bGDuBgeOLFkiKOkiAoQHQB8cABCnAYKcEBZAa+HBgNADUB9YWCqiAgECCUkAQLARAgJtLSIgeAr1wAMjIwhYeCDiIwkBDRQ0IHojg4',\n",
       " b'UNZaFKKPgBwAUS2Uo4iEBvRYKxeTdsoPuhQYkHCk7+KPAAr94FYRz8JPEAQeEfHgYckCAB8kARCx4r6MMJw4ABBEJhYDfiAFhjGT8cuHDxHQkdAU77CAEAIfkEBQUAHw',\n",
       " b'AsAgADACwAKwAABf/gJ45kaY5Ocq5sazoaJmRubY8RAAhAdNuJRMThMVF2vMrP5aFgPjRTAgngLFuJKMZn0gigxevKwcFUoqfUKkHhXjWaRPjHIRQKnPnNo79FCAMFAw',\n",
       " b'QUWGIrHHd3A2glBRAXCAGHJRqKgo0iFAgdnZ0LlCQYigAnEB0TqakdA6EjGRiZIhWqtR0bDq4uDLW9srokA721v8AiGcMTt7nGKwaoqp2TzR9kbh8JCp6dBtQfHK0GAX',\n",
       " b'oECggKpdQRDCINH1/eK+kjDMzxJfMi9SgABAJ9uta1awDvA4ALDyZIQKCEGrgP4sJUSPjhgYQJBzR4s0YC1IOPHycwAKhugwSQHxfU2rsXwSRKixZWxnOgoCLKCQZILs',\n",
       " b'mi4oSACTYTPii2R8ACBQsIyBRRYANQjPkOCYAgAoGkFZYMFCjkyoEBBCMQLLjWwkGBDwoMaLyR4OsICAvW1nA3wsITGx5ahTXQ04VeEhD6iphSpQSHmh/OFSxLlcSGAw',\n",
       " b'1FAFBgwQKEaSOyDojsIgFYxwcKVkAQCUHlqB6I/PCAmMQFNAZKW71A11WADQ9EbPjQgJmHBrJJL1gqhgDCBxsayM0bnHazOv5McIBgwWp1zvdeLbCqYHF2Eg4yVBBsIw',\n",
       " b'QAIfkEBQUAHwAsAgADACwAKwAABf+gJ45kaZLOqa7smWhZ0s70mGRVFdf8mug4WW9I+mUyGCGR6IBlNKml1BE1JSJK6ZACCAQ42mEEQAiUI2EexcsGnwgLiAKQ9iTIbI',\n",
       " b'1V0el3JgZ1GWwYVSMNfxKKEx0BdTcchiIcEhOKlxMWWXUlBBOWl5USaJwnAZ+hlQ+kpSUUD6CYCJKtIgaJix10rQ4JWQ4KjH0SDLURBAMDGCUABgoGFbUeBAYMDAYZ0i',\n",
       " b'oVDMkDDLvaJdzd3+EiGADZ0tTW2CMVCA8SGwsUxsjKIxwHoIwQtML0ymJgwoODByc4EiciwQEJCBM2YNjwYcR5Eyl6WGAwYgcCnFiZqAALooQOmtK2ZBhgQN8JABdgPU',\n",
       " b'DgRouGBnIULFh2wgEZAZwCQFhAVAGDTSyaNSiAdIWDATqLGmh6osCBDQ82KLhXQyjROCBpENiw4YDZBxlLYBAgSYOBnA1qtljwwKzZDRfkVmiAAMGCcx7GDAjAdQawun',\n",
       " b'bx8vRAQcGFvo+jpTGA+KwFVgEs9O1rYUAdDBYQY/U8YoDmzRfShgEAgewF0iMyb0bwupTPLyYiLHiMwAIEuRQpMICAIK7G3MBphAAAIfkEBQUAHwAsAgADACsAKwAABf',\n",
       " b'/gJ45kaZLeqa6sqrVwLM/0F2EiFtW86HCVSsbR43mIH0eqyDx5EsjmLFIBCHbSmKcyAmS1AsKIcsoMDIRE1iMQEQBqFOMx+UwOXmmiDeAsRwF1Dw8iDxlZDhoRfz4XEo',\n",
       " b'OQHwaMXyMZD4+QmBZRlZaYmpudnkkIH6GSlKQAdaciGxykR1EeBRsTuBY4ngkAAQGxYwQDAaNSDgEDBctYpCYJywXDXM7P0cNtIxwCZKTIysvBHAsWBxYMxk29v8EUEB',\n",
       " b'Ib8RINzrMjAw8H+vob2dVJCjbs0/dgwD8fEAQO3MDgoIg5Aw88yCNFlQgNFh4I3CBhQToaGpIROGSiAoQL+hquxGFCgcGClwaCldgCgGSWBQZyLghg8QSHAgwA9HRSAG',\n",
       " b'fOBgU+lgiAwIJTAythADBqYAEApSMENEXA9UIBnxkoRSjaYMGAZiwMXODK1YICtC0VKDBAbUSCCm+irvDQYC1bCxBkJjCAAAIEBAvQ9hjgt+uClQIMy1WAQEwTDQr8Og',\n",
       " b'1AggCEyZQbSsGwoCkEyyMwfJ6M4OsaDABezGRQ+HCDbg5tFFUwAHduEQn0wggBACH5BAUFAB8ALAIAAwArACoAAAX/4CeOpMhlTqmubDsCyvNYxepFkefuZDB1k19nUX',\n",
       " b'JQRJQUz6XZAIPBDoGUyFQqmcTSNXhCfxatyEPBYCi6Lcvg/W401ERErF4x2tFDpORJs/w7GBJ4HQZqHhwCGWoNHV4dB3Q8GQACABWALgYPPxMIi2oYlQAYmSIJAQMBSh',\n",
       " b'8cBAMAdSKUlhmmAAcfExIWFbIsFQIVkiIYDx8SIwdwv3wOph8QEyoMzVsRGysK0NYl2CsQ3N0kRCo14zsZ2SMdCKzoI30kAhbJEggc8CQeFQAAzCIcACAgQJw1Xx8GEC',\n",
       " b'CmjweGhksI1Hg4IgEHhvAQKhTjYAACCwgIGPzFzx8zDwtkxnyQUWAkST+xSGQDBXFfuRJTatpU8eCczhEBVGwQ8HOfAhEbZDBwuUMggQAASUQwYOGDhaXoEhAwwHXAkR',\n",
       " b'WJvqITYGCAWQMxl1AAECBfHQBlzwZgWuEoAgQF3u2oYIDB2VI8NEAYUTWoighRAwboa2BhxKrkJGlt0MBrkQyK1AyAPELBnjEFIChQAIEBxrecRTRgxWGBa9cKiI5L0M',\n",
       " b'CqhQsIKIoA8Bp2znFTIUBYkNZE7wUKEMI7Aa2AAtgDmKJzQLaB4y0hAAAh+QQFBQAfACwCAAMAKwArAAAF/6AnjqSYUGWqrizJNdYBBW1tj8LWdRM/3EBV4tKRGCU8TH',\n",
       " b'ApCkwmR2NnwVwyilEkohos8LIdBReo0UWftCBlHRz0nj1xUFOpa7oHyeSxuAc5FRkVHCsOAgFKJAEBhEyAgo0lAhcPEg8QGWMkCRmdCSkZG1BSCA6aIw6pKgt7D64PE2',\n",
       " b'mnLAl5r64TDbMtDhaWt7m7LQatr7HCLBQWo08KpsgrGRCVDw2f0B4cAhURJRgAmdgeGYsEAd3iKQ6L5X7pJOvsBO4i6OIZ5uboDgQLCAsA0mXYZo+Bqw0PNsh65yHHhg',\n",
       " b'MQN1ygl27AA4gYHyyseBHjAY0MReTwKJGiOAcGDq66KiAMA6JCAxBYQEBg1zoDOANcS5GAw85TGRgwGMDAQKIbDioAQLEEg4EBUA0EvPECAoQFAZ5RFUrUQLgaERoggK',\n",
       " b'AAAgIBQn7iKMoAgNYWARAomKsAwQ94AIgSUOtBAweTLAqQpYvAQIkACxo0WFCALxMBVgmzHKHBQAOclivMchATgecGTEVguIy5AdpZCQgoHhBaxAvSlyNtfksCQOLFG0',\n",
       " b'NWIFAAA+2QIn7XCAEAIfkEBQUAHwAsAgABACsALQAABf/gJ45kaYpUEHBn677k8EyT1MA46SVn03W0H4SXc0UGEESjQgL8aNDOoNjiWGifySMwUgChwQuROnIoPo/07K',\n",
       " b'ARIb7gzqZNHgkeEnV6Mv0s4FEHY3UEWnoPHzcfAU9xBnVNEnl6Ewwjf3EXEZAjEVd6kgJlBhM/HQp0nCIBEjUSWQ0OJRgEBBgmg1QACBsPBwweqhktHhUALCQVArJ1FB',\n",
       " b'9MmyYZCgcHFwa5nB4RFRHBJRQIDxvkEguqJcHfJQy+1dUPAOg4DhAb79UblvMwCvf4D/rwc1HA3bsNoga+gCCBXC9FCl1wWHDhgoUBzCJ+iDAsowgOGKJp/KABgMkKHk',\n",
       " b'fklhAAQABLkSpXtnyZLiZJkwBQivAgwECDAchGcvyQEYCFihcQ3LI5QgMCCwiiXmiQbSSApFGjWhjG9MPVrFqZdLUC9sICmDYJWKyoVCEHUSl3AmiwwMBSfgIGFBgAIO',\n",
       " b'5OD+vmUShAeC/XHB4yZPD7gkNhAgPuwqAw4EyDDIFhRIBMWCAMD48+JFEQVEdmERo4J8RRAQIEEgTScSBQQMBpHs6KcCnh+UMGAwsWNABwuo6GcyJeyxuRYF8iA7nRed',\n",
       " b'gtgsGgBKFHSFblAcAjArkc9NYIuEUGuolWd0UNIADm9SaKvwgBACH5BAUFAB8ALAIAAQArACwAAAX/oCeOZGmOXHWubFsG1vZchWvfw9RN+mTctsBCwdCQKpKOZCnhAY',\n",
       " b'Arx4LHOwhGBiVz2VlAT42J5EHuXCKihXbbQXxLmc2ETG4SRI01s/smBZZ0ZQwiADxbOgF9IxgPY4ETA1g7SzoKiiMOCHN0ExscmAMPHUoDCZeLcmJiNSUcAAAZpyUVCh',\n",
       " b'sbFneyKwkcpiQcsbonDgwIFgi5wi1SZDIPrMorAA8H1QcbF0bRJwwb1tUPidsm3d8H4eMm09+3FOklDgbNDxvi7yUFEAgK9tsRFGhMBEyX4BUsB/dMZAAgoKGvhCMWNh',\n",
       " b'TwEKKHgq8yIBSRoQADAu7S/RvoAYMxCxYWwJC8F0HBBQQwDzCo+A7DS5gwIYRMCOAYTgQQtCWkAMEnggMNaL4DgOCCUwXBdCXIsJIEBgYNCgiV1bFAAQwbLSYIMKBA2a',\n",
       " b'02InAIC4QCAa9eP91IQKDBAgZygYwtO4BA1RX5FgwxgNYFBQAECOR1wUGwY34mNAQIsBhTBKUsBDgWrCCZCA4DDDBgcEUXhQYKHpcW4YAAgwEDXrO9BGCIAgUD2CaIDX',\n",
       " b't0YUUCzAKg2dpA71IWRWgILTpq8ggNd94IAQAh+QQFBQAfACwDAAEAKgAsAAAF/+AnjmRpio52rmxLYsqxIYBr24T0dd0nDTeXYDAAeEicR6nzyARPnsFBItkoOKPCZ2',\n",
       " b'JiPE2Ex+ZAliwSIsNK8SUlEA+yfFP7AE/qtohjGcundxkPPSMdEwJ6IhFwfwcPBCMDE4aTH16JHx4GcXIPFhQjHgBwEhcBR5gfERAPrXF1JB4ZGWipIwkDChANGLYrHg',\n",
       " b'moocK+JQQLCAuwxSwGGyMbAcwsAs8kn9MnA0okGxXZYCYH3+BIMiMPEBHlxs/cy+wiAA0KDYjlDhG1sfEOHBi0iMVTVSFDBXIDbxU8mJCEP4DBRGgIUMQBu3z7MihAwN',\n",
       " b'EAqIQJDCBQQNJCAYHgMqCMJKmrwbqBFVaShLDgY7wIyFgiGGAxIQyOyV76SsGCQwEGkJglABAgQAaU7AAQCEAAwD4bCSK2acrVZgtRBgwUEHrDgYCpU4MAWBB2wQCyNi',\n",
       " b'IIAADAK4uQDcIasGciAgYAKk5cdRFS7154KrwMwGIrAYO8exsgzBQgzwctvjJEbhDgqgPMIgoMTjSRgACUAS4ZINAzIQXMAwI33MNhdIsQACH5BAUFAB8ALAMAAQAqAC',\n",
       " b'wAAAX/oCeOZGmeaKqikWFdS7XOM2dN+PQA9MoRBEEpgdA9jpOLpociXI4bg2MkeEiO2EmBaQpsHofDVyoiTK7YR8fALSnAYfFB5glI0NkBSQOgryIIG3FhGwEiCRYdaR',\n",
       " b'MbHCIcb2cWGCsOEHCEB0IiAhtnEmcEIhoHHR0TphJ+KAOYBw8QCSQVDWIIPCIQpzmoFisJDV9HCJQmGhkkGaC8OZspCQQKCgZLNAHMvHptNBXYOYYjAAYNBsjbJBe7OR',\n",
       " b'0bESIOAS8XF8Tn4ajrHaKPFgj+CBcUuLPnAUApUw/2iQBA7x8CC+YIOgBQAEC1cA0dOiLo4+G/Cw1kcVwBQN4FCKtG2abAwKABg40qh4iMWYlChgozaaJIgOHmRZ0neP',\n",
       " b'oE+uwYzhEOBARIqTPBzBbSFBTISdRDggEQFmiFAK7qIwVatSpgQBUoh7BiyXo9xCDr1q5rNRiIyoACTQdTTkysmHdkggoCBAxcOyIDAAGHy6roywXDYcR2aWQgMEAAY8',\n",
       " b'mH+1xGQatBgwVwe3AQkGHw4gHkxhmAOSJChgyRTSjeaaB27QYpKRAoUIBAbHsOCiy4XbcEgAG8BwDY3IZCS3IRw/HmHYB5mwiBf4+ogJyyM8IJKA4IMLsqBdY0QgAAIf',\n",
       " b'kEBQUAHwAsAwACACkAKwAABf/gJ45kaTqDghiR6b4wSSGkpcW46ABBVnqKj4SEaOVeAMhmcxh4RpnNhCSRBI4uzKHkFAWGpckAa2qUHhZj5VEaEkgejSM3Z482l4oIaE',\n",
       " b'rvDRdMCxQxfCU2UBYfE1MbAHs0JAc3MAFLJAtPIxoMFhcNeiJjVaQfEDEODB8bqwqEJgmvIglbpFVCPjAeAAYNBQlYEUO2w1dkwWzEIgIjGAwGAxzHJwtCth8WwLuRHw',\n",
       " b'rS0yQZdrcTzB8UCoojBnPgzQhTHxePIqEkEJTuexiPwCP2JPLpgxFBwQUSA9oNjFEBggVFC/wtxKGhAIMCAifC0aQRh4ePHzt6BMlRpAuSJU20/iC5h4IAWSo/hPyQoM',\n",
       " b'CCmwBSqvRgrJuCXDFnGQgiAkIBnSIjDB1hFGlHniQUmAs6y+bNAAoXZv1RAUAGp+AyiJVIVQSHChkqcABrgi2Ms2nXHqHA4+s0DRXyanD7gcOzZ1PJUBjM90MABgMGMG',\n",
       " b'BgBA4HDltHFP7gwGLixd9GOMBAIACAxu52GUB8cWuGzgEIBHaXgMDiaCYwBJjtWaMHDhheUEBNACBVBxVSry77IQLMHCEAADs=\");\\n      }\\n    </style>\\n    <',\n",
       " b'script type=\"text/javascript\" charset=\"utf-8\">\\n      setTimeout(function(){\\n        var spinner = document.getElementById(\\'spinn',\n",
       " b\"er');\\n        if (spinner) {\\n          spinner.style.display = 'block';\\n        }\\n      }, 2000);\\n    </script>\\n\\n\\n    <link rel=\",\n",
       " b'\"stylesheet\" href=\"https://d360wc4uc6n3i9.cloudfront.net/assets/vendor-246de968b4112215bf1d68b9938d901b.css\">\\n<link rel=\"stylesh',\n",
       " b'eet\" href=\"https://d360wc4uc6n3i9.cloudfront.net/assets/next-c4f8c91e51523d39f390235201e109f7.css\">\\n\\n<script src=\"https://d360wc',\n",
       " b'4uc6n3i9.cloudfront.net/assets/vendor-7963c2bf3d9d22e47e68076b829ffd33.js\"></script>\\n<script src=\"https://d360wc4uc6n3i9.cloudfr',\n",
       " b'ont.net/assets/next-34f6ff2322f963a4a7c699f1a03b725e.js\"></script>\\n\\n\\n\\n  <!-- ================== Google Remarketing Tag =========',\n",
       " b'================= -->\\n\\n  <script type=\"text/javascript\">\\n    /* <![CDATA[ */\\n    var google_conversion_id = 922099414;\\n    var g',\n",
       " b'oogle_custom_params = window.google_tag_params;\\n    var google_remarketing_only = true;\\n    /* ]]> */\\n  </script>\\n\\n  <script typ',\n",
       " b'e=\"text/javascript\" src=\"//www.googleadservices.com/pagead/conversion.js\"></script>\\n\\n  <noscript>\\n    <div style=\"display:inline',\n",
       " b';\">\\n      <img height=\"1\" width=\"1\" style=\"border-style:none;\" alt=\"\" src=\"//googleads.g.doubleclick.net/pagead/viewthroughconve',\n",
       " b'rsion/922099414/?value=0&amp;guid=ON&amp;script=0\"/>\\n    </div>\\n  </noscript>\\n\\n\\n<script async type=\"text/javascript\" src=\"/_Inca',\n",
       " b'psula_Resource?SWJIYLWA=719d34d31c8e3a6e6fffd425f7e032f3&ns=1&cb=1760750540\"></script>\\n</body>\\n</html>\\n']"
      ]
     },
     "execution_count": 9,
     "metadata": {},
     "output_type": "execute_result"
    }
   ],
   "source": [
    "list(df)"
   ]
  },
  {
   "cell_type": "code",
   "execution_count": null,
   "metadata": {
    "collapsed": true
   },
   "outputs": [],
   "source": [
    "# Inspect the JSON structure of the object you created, and take note of how nested it is,\n",
    "# as well as the overall structure\n"
   ]
  },
  {
   "cell_type": "markdown",
   "metadata": {},
   "source": [
    "These are your tasks for this mini project:\n",
    "\n",
    "1. Collect data from the Franfurt Stock Exchange, for the ticker AFX_X, for the whole year 2017 (keep in mind that the date format is YYYY-MM-DD).\n",
    "2. Convert the returned JSON object into a Python dictionary.\n",
    "3. Calculate what the highest and lowest opening prices were for the stock in this period.\n",
    "4. What was the largest change in any one day (based on High and Low price)?\n",
    "5. What was the largest change between any two days (based on Closing Price)?\n",
    "6. What was the average daily trading volume during this year?\n",
    "7. (Optional) What was the median trading volume during this year. (Note: you may need to implement your own function for calculating the median.)"
   ]
  },
  {
   "cell_type": "code",
   "execution_count": null,
   "metadata": {
    "collapsed": true
   },
   "outputs": [],
   "source": []
  }
 ],
 "metadata": {
  "kernelspec": {
   "display_name": "Python 3",
   "language": "python",
   "name": "python3"
  },
  "language_info": {
   "codemirror_mode": {
    "name": "ipython",
    "version": 3
   },
   "file_extension": ".py",
   "mimetype": "text/x-python",
   "name": "python",
   "nbconvert_exporter": "python",
   "pygments_lexer": "ipython3",
   "version": "3.7.3"
  },
  "toc": {
   "base_numbering": 1,
   "nav_menu": {},
   "number_sections": true,
   "sideBar": true,
   "skip_h1_title": false,
   "title_cell": "Table of Contents",
   "title_sidebar": "Contents",
   "toc_cell": false,
   "toc_position": {},
   "toc_section_display": true,
   "toc_window_display": false
  }
 },
 "nbformat": 4,
 "nbformat_minor": 2
}
